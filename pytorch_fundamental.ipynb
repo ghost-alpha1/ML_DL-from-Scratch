{
 "cells": [
  {
   "cell_type": "code",
   "execution_count": 9,
   "id": "f3acd7fb",
   "metadata": {},
   "outputs": [
    {
     "name": "stdout",
     "output_type": "stream",
     "text": [
      "2.5.1\n"
     ]
    }
   ],
   "source": [
    "import torch\n",
    "import numpy as np\n",
    "import pandas as pd\n",
    "import matplotlib.pyplot as plt\n",
    "print(torch.__version__)"
   ]
  },
  {
   "cell_type": "code",
   "execution_count": 10,
   "id": "56a973e3",
   "metadata": {},
   "outputs": [
    {
     "name": "stdout",
     "output_type": "stream",
     "text": [
      "Thu Jul 24 17:39:31 2025       \n",
      "+-----------------------------------------------------------------------------+\n",
      "| NVIDIA-SMI 527.41       Driver Version: 527.41       CUDA Version: 12.0     |\n",
      "|-------------------------------+----------------------+----------------------+\n",
      "| GPU  Name            TCC/WDDM | Bus-Id        Disp.A | Volatile Uncorr. ECC |\n",
      "| Fan  Temp  Perf  Pwr:Usage/Cap|         Memory-Usage | GPU-Util  Compute M. |\n",
      "|                               |                      |               MIG M. |\n",
      "|===============================+======================+======================|\n",
      "|   0  NVIDIA T1000       WDDM  | 00000000:01:00.0  On |                  N/A |\n",
      "| 36%   48C    P8    N/A /  50W |    626MiB /  4096MiB |      0%      Default |\n",
      "|                               |                      |                  N/A |\n",
      "+-------------------------------+----------------------+----------------------+\n",
      "                                                                               \n",
      "+-----------------------------------------------------------------------------+\n",
      "| Processes:                                                                  |\n",
      "|  GPU   GI   CI        PID   Type   Process name                  GPU Memory |\n",
      "|        ID   ID                                                   Usage      |\n",
      "|=============================================================================|\n",
      "|    0   N/A  N/A      5440    C+G   ...icrosoft VS Code\\Code.exe    N/A      |\n",
      "|    0   N/A  N/A      5724    C+G   ...oft OneDrive\\OneDrive.exe    N/A      |\n",
      "|    0   N/A  N/A      5832    C+G   ...ewy\\CrossDeviceResume.exe    N/A      |\n",
      "|    0   N/A  N/A      6632    C+G   C:\\Windows\\explorer.exe         N/A      |\n",
      "|    0   N/A  N/A      6712    C+G   ...ws\\System32\\ShellHost.exe    N/A      |\n",
      "|    0   N/A  N/A      6824    C+G   ...ge\\Application\\msedge.exe    N/A      |\n",
      "|    0   N/A  N/A      7744    C+G   ...n1h2txyewy\\SearchHost.exe    N/A      |\n",
      "|    0   N/A  N/A      7748    C+G   ...artMenuExperienceHost.exe    N/A      |\n",
      "|    0   N/A  N/A      7816    C+G   ...lPanel\\SystemSettings.exe    N/A      |\n",
      "|    0   N/A  N/A      9408    C+G   ...351.95\\msedgewebview2.exe    N/A      |\n",
      "|    0   N/A  N/A     10416    C+G   ...2txyewy\\TextInputHost.exe    N/A      |\n",
      "|    0   N/A  N/A     12332    C+G   ...e\\PhoneExperienceHost.exe    N/A      |\n",
      "|    0   N/A  N/A     12392    C+G   ...\\ApplicationFrameHost.exe    N/A      |\n",
      "|    0   N/A  N/A     14924    C+G   ...351.95\\msedgewebview2.exe    N/A      |\n",
      "|    0   N/A  N/A     15088    C+G   ...y\\ShellExperienceHost.exe    N/A      |\n",
      "|    0   N/A  N/A     16388    C+G   ...ser\\Application\\brave.exe    N/A      |\n",
      "|    0   N/A  N/A     16792    C+G   ...ser\\Application\\brave.exe    N/A      |\n",
      "|    0   N/A  N/A     17480    C+G   ...ekyb3d8bbwe\\onenoteim.exe    N/A      |\n",
      "+-----------------------------------------------------------------------------+\n"
     ]
    }
   ],
   "source": [
    "!nvidia-smi"
   ]
  },
  {
   "cell_type": "markdown",
   "id": "cc549481",
   "metadata": {},
   "source": [
    "## Introduction to Tensor"
   ]
  },
  {
   "cell_type": "code",
   "execution_count": 11,
   "id": "a20eea78",
   "metadata": {},
   "outputs": [
    {
     "data": {
      "text/plain": [
       "tensor(7)"
      ]
     },
     "execution_count": 11,
     "metadata": {},
     "output_type": "execute_result"
    }
   ],
   "source": [
    "scalar = torch.tensor(7)\n",
    "scalar"
   ]
  },
  {
   "cell_type": "code",
   "execution_count": 12,
   "id": "bfdccb5b",
   "metadata": {},
   "outputs": [
    {
     "data": {
      "text/plain": [
       "7"
      ]
     },
     "execution_count": 12,
     "metadata": {},
     "output_type": "execute_result"
    }
   ],
   "source": [
    "scalar.item()"
   ]
  },
  {
   "cell_type": "code",
   "execution_count": 13,
   "id": "a3231f86",
   "metadata": {},
   "outputs": [
    {
     "data": {
      "text/plain": [
       "torch.Size([2])"
      ]
     },
     "execution_count": 13,
     "metadata": {},
     "output_type": "execute_result"
    }
   ],
   "source": [
    "vector = torch.tensor([7,7])\n",
    "vector.shape"
   ]
  },
  {
   "cell_type": "code",
   "execution_count": 14,
   "id": "f165a945",
   "metadata": {},
   "outputs": [
    {
     "data": {
      "text/plain": [
       "1"
      ]
     },
     "execution_count": 14,
     "metadata": {},
     "output_type": "execute_result"
    }
   ],
   "source": [
    "vector.ndim"
   ]
  },
  {
   "cell_type": "code",
   "execution_count": 15,
   "id": "0a5e19c9",
   "metadata": {},
   "outputs": [
    {
     "name": "stdout",
     "output_type": "stream",
     "text": [
      "matrix shape torch.Size([2, 2]) and matrix dimension is 2\n"
     ]
    }
   ],
   "source": [
    "matrix = torch.tensor([[7,2],\n",
    "                       [3,5]])\n",
    "print(f\"matrix shape {matrix.shape} and matrix dimension is {matrix.ndim}\")"
   ]
  },
  {
   "cell_type": "code",
   "execution_count": 16,
   "id": "8958ea22",
   "metadata": {},
   "outputs": [
    {
     "name": "stdout",
     "output_type": "stream",
     "text": [
      "TENSOR shape torch.Size([1, 3, 4]) and TENSOR dimension is 3\n"
     ]
    }
   ],
   "source": [
    "TENSOR = torch.tensor([[[1,2,3,4],\n",
    "                        [4,5,6,4],\n",
    "                        [7,8,9,4]]])\n",
    "print(f\"TENSOR shape {TENSOR.shape} and TENSOR dimension is {TENSOR.ndim}\")"
   ]
  },
  {
   "cell_type": "markdown",
   "id": "4f76b00f",
   "metadata": {},
   "source": [
    "### Random Tensor "
   ]
  },
  {
   "cell_type": "markdown",
   "id": "15fd56d4",
   "metadata": {},
   "source": [
    "##### Random Tensor Understanding : https://docs.pytorch.org/docs/stable/generated/torch.rand.html"
   ]
  },
  {
   "cell_type": "code",
   "execution_count": 17,
   "id": "a2e2774a",
   "metadata": {},
   "outputs": [
    {
     "data": {
      "text/plain": [
       "tensor([[0.8256, 0.5529, 0.6824, 0.7014],\n",
       "        [0.8647, 0.3458, 0.6252, 0.2467],\n",
       "        [0.7231, 0.9338, 0.1279, 0.0808]])"
      ]
     },
     "execution_count": 17,
     "metadata": {},
     "output_type": "execute_result"
    }
   ],
   "source": [
    "random_tensor = torch.rand(3,4)\n",
    "random_tensor"
   ]
  },
  {
   "cell_type": "code",
   "execution_count": 18,
   "id": "c4628c45",
   "metadata": {},
   "outputs": [
    {
     "name": "stdout",
     "output_type": "stream",
     "text": [
      "Random Tensor shape torch.Size([3, 4]) and Random Tensor dimension is 2\n"
     ]
    }
   ],
   "source": [
    "print(f\"Random Tensor shape {random_tensor.shape} and Random Tensor dimension is {random_tensor.ndim}\")"
   ]
  },
  {
   "cell_type": "code",
   "execution_count": 19,
   "id": "fa597c61",
   "metadata": {},
   "outputs": [
    {
     "data": {
      "text/plain": [
       "(torch.Size([224, 224, 3]), 3)"
      ]
     },
     "execution_count": 19,
     "metadata": {},
     "output_type": "execute_result"
    }
   ],
   "source": [
    "#Create a random Tensor with similar shape to an image tensor\n",
    "random_image_size_tensor = torch.rand(size=(224, 224, 3)) #height, width, channels (R, G, B)\n",
    "random_image_size_tensor.shape, random_image_size_tensor.ndim"
   ]
  },
  {
   "cell_type": "markdown",
   "id": "0f3271ae",
   "metadata": {},
   "source": [
    "### Zeros and Ones"
   ]
  },
  {
   "cell_type": "code",
   "execution_count": 20,
   "id": "66b86806",
   "metadata": {},
   "outputs": [
    {
     "data": {
      "text/plain": [
       "tensor([[0., 0., 0., 0.],\n",
       "        [0., 0., 0., 0.],\n",
       "        [0., 0., 0., 0.]])"
      ]
     },
     "execution_count": 20,
     "metadata": {},
     "output_type": "execute_result"
    }
   ],
   "source": [
    "#Create all Zeros Tensor\n",
    "zeros = torch.zeros(size=(3,4))\n",
    "zeros"
   ]
  },
  {
   "cell_type": "code",
   "execution_count": 21,
   "id": "4e1cc950",
   "metadata": {},
   "outputs": [
    {
     "data": {
      "text/plain": [
       "tensor([[1., 1., 1., 1.],\n",
       "        [1., 1., 1., 1.],\n",
       "        [1., 1., 1., 1.]])"
      ]
     },
     "execution_count": 21,
     "metadata": {},
     "output_type": "execute_result"
    }
   ],
   "source": [
    "#create all Ones Tesnsor\n",
    "ones = torch.ones(size=(3,4))\n",
    "ones"
   ]
  },
  {
   "cell_type": "markdown",
   "id": "805907bd",
   "metadata": {},
   "source": [
    "#### Creating a range of Tensor and Tensor-like"
   ]
  },
  {
   "cell_type": "code",
   "execution_count": 22,
   "id": "e0c23e5f",
   "metadata": {},
   "outputs": [
    {
     "data": {
      "text/plain": [
       "tensor([ 1,  2,  3,  4,  5,  6,  7,  8,  9, 10])"
      ]
     },
     "execution_count": 22,
     "metadata": {},
     "output_type": "execute_result"
    }
   ],
   "source": [
    "# use torch.range()\n",
    "one_to_ten = torch.arange(1,11)\n",
    "# using step in arange\n",
    "one_to_some_step = torch.arange(start = 1, end = 11, step = 1)\n",
    "one_to_some_step\n"
   ]
  },
  {
   "cell_type": "code",
   "execution_count": 23,
   "id": "a072670c",
   "metadata": {},
   "outputs": [
    {
     "data": {
      "text/plain": [
       "tensor([0, 0, 0, 0, 0, 0, 0, 0, 0, 0])"
      ]
     },
     "execution_count": 23,
     "metadata": {},
     "output_type": "execute_result"
    }
   ],
   "source": [
    "#Create Tensor-like\n",
    "ten_zeros = torch.zeros_like(input=one_to_some_step)\n",
    "ten_zeros"
   ]
  },
  {
   "cell_type": "markdown",
   "id": "46248022",
   "metadata": {},
   "source": [
    "### Tensor DataType\n",
    "#### **NOTE:** Tensor datatypes is one of the 3 big errors you'll run into with pytorch and deep learning:\n",
    "     1.Tensor not right shape    \n",
    "     2.Tensor not right dataType\n",
    "     3.Tensor not on the right Device\n"
   ]
  },
  {
   "cell_type": "code",
   "execution_count": 24,
   "id": "c7840d37",
   "metadata": {},
   "outputs": [
    {
     "data": {
      "text/plain": [
       "tensor([3., 6., 7.])"
      ]
     },
     "execution_count": 24,
     "metadata": {},
     "output_type": "execute_result"
    }
   ],
   "source": [
    "float_32_tensor = torch.tensor([3.0, 6.0, 7.0], \n",
    "                               dtype=None, # what data type is the tensor (e.g. float32 and float 16)\n",
    "                               device=None,# what device  is your tensor on\n",
    "                               requires_grad=False) # Wheather or not to track gradient with this tensors operation\n",
    "float_32_tensor"
   ]
  },
  {
   "cell_type": "code",
   "execution_count": 25,
   "id": "e9d89da1",
   "metadata": {},
   "outputs": [
    {
     "data": {
      "text/plain": [
       "tensor([3., 6., 7.], dtype=torch.float16)"
      ]
     },
     "execution_count": 25,
     "metadata": {},
     "output_type": "execute_result"
    }
   ],
   "source": [
    "float_16_tensor = float_32_tensor.type(torch.float16)\n",
    "float_16_tensor"
   ]
  },
  {
   "cell_type": "code",
   "execution_count": 26,
   "id": "57f8a013",
   "metadata": {},
   "outputs": [
    {
     "data": {
      "text/plain": [
       "tensor([ 9., 36., 49.])"
      ]
     },
     "execution_count": 26,
     "metadata": {},
     "output_type": "execute_result"
    }
   ],
   "source": [
    "float_16_tensor*float_32_tensor"
   ]
  },
  {
   "cell_type": "code",
   "execution_count": 27,
   "id": "71ae6aa6",
   "metadata": {},
   "outputs": [
    {
     "data": {
      "text/plain": [
       "tensor([[0.9616, 0.2553, 0.1501, 0.6616],\n",
       "        [0.3390, 0.2590, 0.7703, 0.6717],\n",
       "        [0.6129, 0.9843, 0.8939, 0.4309]])"
      ]
     },
     "execution_count": 27,
     "metadata": {},
     "output_type": "execute_result"
    }
   ],
   "source": [
    "# Create some Tensor \n",
    "\n",
    "some_tensor = torch.rand(3,4)\n",
    "some_tensor"
   ]
  },
  {
   "cell_type": "code",
   "execution_count": 28,
   "id": "e9d8d11f",
   "metadata": {},
   "outputs": [
    {
     "name": "stdout",
     "output_type": "stream",
     "text": [
      "Datatype of Tensor is torch.float32\n",
      "shape of tensor: torch.Size([3, 4])\n",
      "Device tensor is on cpu\n"
     ]
    }
   ],
   "source": [
    "# Find Out Detalis about Some_Tensor \n",
    "print(f\"Datatype of Tensor is {some_tensor.dtype}\")\n",
    "print(f\"shape of tensor: {some_tensor.shape}\")\n",
    "print(f\"Device tensor is on {some_tensor.device}\")"
   ]
  },
  {
   "cell_type": "markdown",
   "id": "bf5cd43c",
   "metadata": {},
   "source": [
    "### Manipulating the Tensor (Tensor operation)\n"
   ]
  },
  {
   "cell_type": "code",
   "execution_count": 29,
   "id": "7cdfdb19",
   "metadata": {},
   "outputs": [
    {
     "data": {
      "text/plain": [
       "tensor([1, 2, 3])"
      ]
     },
     "execution_count": 29,
     "metadata": {},
     "output_type": "execute_result"
    }
   ],
   "source": [
    "tensor = torch.tensor([1,2,3])\n",
    "tensor"
   ]
  },
  {
   "cell_type": "code",
   "execution_count": 30,
   "id": "b7d7a106",
   "metadata": {},
   "outputs": [
    {
     "name": "stdout",
     "output_type": "stream",
     "text": [
      "tensor([11, 12, 13])\n",
      "tensor([-9, -8, -7])\n",
      "tensor([10, 20, 30])\n",
      "tensor([11, 12, 13])\n",
      "tensor([-9, -8, -7])\n",
      "tensor([10, 20, 30])\n",
      "tensor([0.1000, 0.2000, 0.3000])\n"
     ]
    }
   ],
   "source": [
    "print(tensor + 10)\n",
    "print(tensor - 10)\n",
    "print(tensor * 10)\n",
    "# Manipulating using Functions\n",
    "print(torch.add(tensor, 10))\n",
    "print(torch.sub(tensor, 10))\n",
    "print(torch.mul(tensor, 10))\n",
    "print(torch.div(tensor, 10))"
   ]
  },
  {
   "cell_type": "code",
   "execution_count": 31,
   "id": "5e2a274d",
   "metadata": {},
   "outputs": [
    {
     "name": "stdout",
     "output_type": "stream",
     "text": [
      "tensor([1, 2, 3]) * tensor([1, 2, 3])\n",
      "Equal to: tensor([1, 4, 9])\n"
     ]
    }
   ],
   "source": [
    "#Element wise Multiplication\n",
    "print(tensor,\"*\",tensor)\n",
    "print(f\"Equal to: {tensor*tensor}\")"
   ]
  },
  {
   "cell_type": "code",
   "execution_count": 32,
   "id": "c6cb115e",
   "metadata": {},
   "outputs": [
    {
     "name": "stdout",
     "output_type": "stream",
     "text": [
      "CPU times: total: 0 ns\n",
      "Wall time: 0 ns\n"
     ]
    },
    {
     "data": {
      "text/plain": [
       "tensor(14)"
      ]
     },
     "execution_count": 32,
     "metadata": {},
     "output_type": "execute_result"
    }
   ],
   "source": [
    "%%time\n",
    "# Matrix Multiplication \n",
    "torch.matmul(tensor,tensor)"
   ]
  },
  {
   "cell_type": "code",
   "execution_count": 33,
   "id": "99f32daa",
   "metadata": {},
   "outputs": [
    {
     "name": "stdout",
     "output_type": "stream",
     "text": [
      "tensor(14)\n",
      "CPU times: total: 15.6 ms\n",
      "Wall time: 1 ms\n"
     ]
    }
   ],
   "source": [
    "%%time\n",
    "value = 0\n",
    "for i in range(len(tensor)):\n",
    "    value += tensor[i] * tensor[i]\n",
    "print(value)"
   ]
  },
  {
   "cell_type": "code",
   "execution_count": 34,
   "id": "b8996ebf",
   "metadata": {},
   "outputs": [
    {
     "name": "stdout",
     "output_type": "stream",
     "text": [
      "tensor([[0.9329, 0.9139, 0.5525],\n",
      "        [0.5492, 0.6393, 0.4502],\n",
      "        [0.7800, 0.6464, 0.3167]])\n"
     ]
    },
    {
     "data": {
      "text/plain": [
       "tensor([[1.2007, 1.2435],\n",
       "        [0.8240, 0.9757]])"
      ]
     },
     "execution_count": 34,
     "metadata": {},
     "output_type": "execute_result"
    }
   ],
   "source": [
    "print(torch.matmul(torch.rand(3,2), (torch.rand(3,2)).T))\n",
    "torch.mm(torch.rand(2,3), (torch.rand(2,3)).T) # torch.mm is same as torch.matmul (it's an alias for matmul)"
   ]
  },
  {
   "cell_type": "markdown",
   "id": "174cfd3f",
   "metadata": {},
   "source": [
    "#### Finding The min, Max, Mean,  Sum, Etc (tensor aggregation) "
   ]
  },
  {
   "cell_type": "code",
   "execution_count": 35,
   "id": "8887f656",
   "metadata": {},
   "outputs": [
    {
     "data": {
      "text/plain": [
       "tensor([ 0, 10, 20, 30, 40, 50, 60, 70, 80, 90])"
      ]
     },
     "execution_count": 35,
     "metadata": {},
     "output_type": "execute_result"
    }
   ],
   "source": [
    "x = torch.arange(start = 0, end= 100, step= 10)\n",
    "x"
   ]
  },
  {
   "cell_type": "code",
   "execution_count": 36,
   "id": "6c0a9838",
   "metadata": {},
   "outputs": [
    {
     "data": {
      "text/plain": [
       "('min :0 and 0', 'max: 90 and 90')"
      ]
     },
     "execution_count": 36,
     "metadata": {},
     "output_type": "execute_result"
    }
   ],
   "source": [
    "f\"min :{x.min()} and {torch.min(x)}\", f\"max: {x.max()} and {torch.max(x)}\""
   ]
  },
  {
   "cell_type": "code",
   "execution_count": 37,
   "id": "d003bacd",
   "metadata": {},
   "outputs": [
    {
     "data": {
      "text/plain": [
       "(tensor(45.), tensor(45.))"
      ]
     },
     "execution_count": 37,
     "metadata": {},
     "output_type": "execute_result"
    }
   ],
   "source": [
    "torch.mean(x.type(torch.float32)), x.type(torch.float32).mean()"
   ]
  },
  {
   "cell_type": "code",
   "execution_count": 38,
   "id": "b76a625e",
   "metadata": {},
   "outputs": [
    {
     "data": {
      "text/plain": [
       "(tensor(450), tensor(450))"
      ]
     },
     "execution_count": 38,
     "metadata": {},
     "output_type": "execute_result"
    }
   ],
   "source": [
    "torch.sum(x), x.sum()"
   ]
  },
  {
   "cell_type": "markdown",
   "id": "cc4b7af7",
   "metadata": {},
   "source": [
    "### Reshaping, Stacking, Squeezing and Unsqueezing Tensors\n"
   ]
  },
  {
   "cell_type": "code",
   "execution_count": 39,
   "id": "32096a2c",
   "metadata": {},
   "outputs": [
    {
     "data": {
      "text/plain": [
       "tensor([1., 2., 3., 4., 5., 6., 7., 8., 9.])"
      ]
     },
     "execution_count": 39,
     "metadata": {},
     "output_type": "execute_result"
    }
   ],
   "source": [
    "# Create a Tensor \n",
    "import torch\n",
    "x = torch.arange(1., 10.)\n",
    "x"
   ]
  },
  {
   "cell_type": "code",
   "execution_count": 40,
   "id": "72e59de0",
   "metadata": {},
   "outputs": [
    {
     "data": {
      "text/plain": [
       "(tensor([[1., 2., 3., 4., 5., 6., 7., 8., 9.]]), torch.Size([1, 9]), 2)"
      ]
     },
     "execution_count": 40,
     "metadata": {},
     "output_type": "execute_result"
    }
   ],
   "source": [
    "# Add an extra dimension to x\n",
    "x_reshape = x.reshape(1,9)\n",
    "x_reshape, x_reshape.shape, x_reshape.ndim"
   ]
  },
  {
   "cell_type": "code",
   "execution_count": 41,
   "id": "d7bbb9f0",
   "metadata": {},
   "outputs": [
    {
     "data": {
      "text/plain": [
       "(tensor([[1., 2., 3., 4., 5., 6., 7., 8., 9.]]), torch.Size([1, 9]), 2)"
      ]
     },
     "execution_count": 41,
     "metadata": {},
     "output_type": "execute_result"
    }
   ],
   "source": [
    "z = x.view(1,9)\n",
    "z, z.shape, z.ndim"
   ]
  },
  {
   "cell_type": "code",
   "execution_count": 42,
   "id": "6d446ab2",
   "metadata": {},
   "outputs": [
    {
     "data": {
      "text/plain": [
       "(tensor([[5., 2., 3., 4., 5., 6., 7., 8., 9.]]),\n",
       " tensor([5., 2., 3., 4., 5., 6., 7., 8., 9.]))"
      ]
     },
     "execution_count": 42,
     "metadata": {},
     "output_type": "execute_result"
    }
   ],
   "source": [
    "#changing z changes x (because a view of a tensor shares the same memory as the original input tensor)\n",
    "z[:, 0] = 5\n",
    "z, x"
   ]
  },
  {
   "cell_type": "code",
   "execution_count": 43,
   "id": "7061897a",
   "metadata": {},
   "outputs": [
    {
     "data": {
      "text/plain": [
       "(tensor([[5., 2., 3., 4., 5., 6., 7., 8., 9.],\n",
       "         [5., 2., 3., 4., 5., 6., 7., 8., 9.],\n",
       "         [5., 2., 3., 4., 5., 6., 7., 8., 9.]]),\n",
       " torch.Size([3, 9]),\n",
       " 2)"
      ]
     },
     "execution_count": 43,
     "metadata": {},
     "output_type": "execute_result"
    }
   ],
   "source": [
    "# Stack tensors on top of each other\n",
    "x_stacked = torch.stack([x, x, x], dim=0)\n",
    "x_stacked, x_stacked.shape, x_stacked.ndim  "
   ]
  },
  {
   "cell_type": "code",
   "execution_count": 44,
   "id": "eec1d6c9",
   "metadata": {},
   "outputs": [
    {
     "name": "stdout",
     "output_type": "stream",
     "text": [
      "Previous Tensor: tensor([[5., 2., 3., 4., 5., 6., 7., 8., 9.]])\n",
      "previous Tensor shape: torch.Size([1, 9])\n",
      "After Squeeze: tensor([5., 2., 3., 4., 5., 6., 7., 8., 9.])\n",
      "After Squeeze: torch.Size([9])\n"
     ]
    }
   ],
   "source": [
    "# torch.squeeze() - removes all single dimensions from a target tensor \n",
    "print(f\"Previous Tensor: {x_reshape}\")\n",
    "print(f\"previous Tensor shape: {x_reshape.shape}\")\n",
    "\n",
    "# Remove Extra dimensions from x_reshape\n",
    "x_squeeze = torch.squeeze(x_reshape)\n",
    "print(f\"After Squeeze: {x_squeeze}\")\n",
    "print(f\"After Squeeze: {x_squeeze.shape if x_squeeze.ndim == 1 else 'not a 1D tensor'}\")"
   ]
  },
  {
   "cell_type": "code",
   "execution_count": null,
   "id": "014cd397",
   "metadata": {},
   "outputs": [],
   "source": []
  },
  {
   "cell_type": "code",
   "execution_count": null,
   "id": "c8a50dc1",
   "metadata": {},
   "outputs": [],
   "source": []
  }
 ],
 "metadata": {
  "kernelspec": {
   "display_name": "py_torch39",
   "language": "python",
   "name": "python3"
  },
  "language_info": {
   "codemirror_mode": {
    "name": "ipython",
    "version": 3
   },
   "file_extension": ".py",
   "mimetype": "text/x-python",
   "name": "python",
   "nbconvert_exporter": "python",
   "pygments_lexer": "ipython3",
   "version": "3.9.21"
  }
 },
 "nbformat": 4,
 "nbformat_minor": 5
}
