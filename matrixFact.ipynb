{
 "cells": [
  {
   "cell_type": "code",
   "execution_count": 1,
   "id": "dd3605a7-973a-43a6-a20c-b060d3c1e156",
   "metadata": {},
   "outputs": [
    {
     "ename": "NameError",
     "evalue": "name 'rating_mat' is not defined",
     "output_type": "error",
     "traceback": [
      "\u001b[1;31m---------------------------------------------------------------------------\u001b[0m",
      "\u001b[1;31mNameError\u001b[0m                                 Traceback (most recent call last)",
      "Cell \u001b[1;32mIn[1], line 1\u001b[0m\n\u001b[1;32m----> 1\u001b[0m n,m \u001b[38;5;241m=\u001b[39m rating_mat\u001b[38;5;241m.\u001b[39mshape\n\u001b[0;32m      2\u001b[0m d \u001b[38;5;241m=\u001b[39m \u001b[38;5;241m20\u001b[39m\n\u001b[0;32m      3\u001b[0m U \u001b[38;5;241m=\u001b[39m np\u001b[38;5;241m.\u001b[39mrandom\u001b[38;5;241m.\u001b[39mrandint(\u001b[38;5;241m10\u001b[39m, size\u001b[38;5;241m=\u001b[39m(n, d))\n",
      "\u001b[1;31mNameError\u001b[0m: name 'rating_mat' is not defined"
     ]
    }
   ],
   "source": [
    "n,m = rating_mat.shape\n",
    "d = 20\n",
    "U = np.random.randint(10, size=(n, d))\n",
    "V = np.random.randint(10, size=(m, d))"
   ]
  },
  {
   "cell_type": "code",
   "execution_count": 639,
   "id": "7931724f-3aad-4a60-9fe8-bcaf6d1a7012",
   "metadata": {},
   "outputs": [
    {
     "data": {
      "text/plain": [
       "(943, 1682)"
      ]
     },
     "execution_count": 639,
     "metadata": {},
     "output_type": "execute_result"
    }
   ],
   "source": [
    "U.astype(float)\n",
    "V.astype(float)\n",
    "y_hat=U@V.T\n",
    "y_hat.shape"
   ]
  },
  {
   "cell_type": "code",
   "execution_count": 641,
   "id": "36fbbe8b-3c2c-4207-bb66-dd81ecf8b9db",
   "metadata": {},
   "outputs": [
    {
     "data": {
      "text/plain": [
       "(943, 1682)"
      ]
     },
     "execution_count": 641,
     "metadata": {},
     "output_type": "execute_result"
    }
   ],
   "source": [
    "y=rating_mat.values\n",
    "y.shape"
   ]
  },
  {
   "cell_type": "code",
   "execution_count": 643,
   "id": "0f43719b-5541-412d-ad67-f47d86dd7f97",
   "metadata": {},
   "outputs": [],
   "source": [
    "def costU(V):\n",
    "    return costU\n",
    "def costVT(U):\n",
    "    return costV"
   ]
  },
  {
   "cell_type": "code",
   "execution_count": 2,
   "id": "963b5f33-f1a9-4007-8b06-967d25171f84",
   "metadata": {},
   "outputs": [],
   "source": [
    "def gradient_descent(U, V, learn_rate=0.0001,n_iter=100, lamda=10):\n",
    "    for _ in range(n_iter):\n",
    "        y_hat = U@V.T\n",
    "        costU= -np.matmul((y-y_hat),V) + lamda*U\n",
    "        costV= -np.matmul((y-y_hat).transpose(),U) + lamda*V\n",
    "\n",
    "        U=U-learn_rate*costU\n",
    "        V=V-learn_rate*costV\n",
    "        \n",
    "        print(np.sum((y-U@V.T)**2) + lamda*(np.linalg.norm(U, ord='fro') + np.linalg.norm(V, ord='fro')))\n",
    "    return U,V"
   ]
  },
  {
   "cell_type": "code",
   "execution_count": 3,
   "id": "cd3d9438-407a-4051-a29a-1b998d1ca7bb",
   "metadata": {},
   "outputs": [
    {
     "ename": "NameError",
     "evalue": "name 'U' is not defined",
     "output_type": "error",
     "traceback": [
      "\u001b[1;31m---------------------------------------------------------------------------\u001b[0m",
      "\u001b[1;31mNameError\u001b[0m                                 Traceback (most recent call last)",
      "Cell \u001b[1;32mIn[3], line 1\u001b[0m\n\u001b[1;32m----> 1\u001b[0m U\u001b[38;5;129m@V\u001b[39m\u001b[38;5;241m.\u001b[39mT\n",
      "\u001b[1;31mNameError\u001b[0m: name 'U' is not defined"
     ]
    }
   ],
   "source": [
    "U@V.T"
   ]
  },
  {
   "cell_type": "code",
   "execution_count": 33,
   "id": "60088781-baa5-4296-8367-dbff64c0d800",
   "metadata": {},
   "outputs": [],
   "source": [
    "import pandas as pd\n",
    "import numpy as np\n",
    "from numpy import linalg as LA\n",
    "import random \n",
    "from sklearn.metrics import precision_score, recall_score"
   ]
  },
  {
   "cell_type": "code",
   "execution_count": 34,
   "id": "2d2982be-6134-4a57-9b9c-ab05c031594a",
   "metadata": {},
   "outputs": [],
   "source": [
    "def train_test_split(data, ratio=0.3):\n",
    "    train_data = data.copy()\n",
    "    nonzero_row, nonzero_col = np.where(data != 0)\n",
    "    nonzero_list = list(zip(nonzero_row, nonzero_col))\n",
    "    train_list = random.sample(nonzero_list, int(len(nonzero_list)*ratio))\n",
    "    nonzerorow_train, nonzerocol_train= zip(*train_list)\n",
    "    train_data[nonzerorow_train, nonzerocol_train] = 0\n",
    "    test_data = data - train_data\n",
    "    return train_data, test_data"
   ]
  },
  {
   "cell_type": "code",
   "execution_count": 35,
   "id": "60be739b-0a16-459a-9f37-d6cdcfd11158",
   "metadata": {},
   "outputs": [],
   "source": [
    "def gradient(y,U, V, mask, lamda, alpha):\n",
    "    for i in range(100):\n",
    "        \n",
    "            yhat = U @ V.T\n",
    "            error = (y - yhat) * mask\n",
    "            loss = (np.sum(error**2) + lamda * (np.linalg.norm(U, 'fro')**2 + np.linalg.norm(V, 'fro')**2)) / 2\n",
    "            dU = -error @ V + lamda * U\n",
    "            dV = -error.T @ U + lamda * V\n",
    "            U = U - alpha * dU\n",
    "            V = V - alpha * dV\n",
    "        \n",
    "            # print(f\"Iteration {i+1}, Loss: {loss}\")\n",
    "    return U,V"
   ]
  },
  {
   "cell_type": "code",
   "execution_count": 41,
   "id": "711b12ea-ee52-43cf-abcb-e6fc76d131fc",
   "metadata": {},
   "outputs": [],
   "source": [
    "def mean_abs_error(y_test,prediction):\n",
    "    mask=(y_test>0).astype(float)\n",
    "    \n",
    "    MAE = np.sum(np.abs((y_test-pred)*(y_test>0)))/np.sum(y_test>0)\n",
    "    return MAE\n",
    "    \n",
    "    "
   ]
  },
  {
   "cell_type": "code",
   "execution_count": 42,
   "id": "12dbb622-443a-47ba-a3ab-c8a16c250368",
   "metadata": {},
   "outputs": [],
   "source": [
    "def training(y,lamda=8.5,alpha=0.00001):\n",
    "    mask = (y > 0).astype(float)\n",
    "   # print(mask,y.shape)\n",
    "    n,m = y.shape\n",
    "    d = 100\n",
    "    U = np.random.rand(n, d)\n",
    "    V = np.random.rand(m, d)\n",
    "    U,V = gradient(y,U,V,mask,lamda,alpha=alpha)\n",
    "    return U, V\n",
    "    \n",
    "def prediction(U, V):    \n",
    "    yhat = U@V.T\n",
    "    yhat[yhat>5] = 5\n",
    "    yhat[yhat<1] = 1\n",
    "    # yhat=np.round(yhat)\n",
    "    return yhat"
   ]
  },
  {
   "cell_type": "code",
   "execution_count": 45,
   "id": "d4d91bd0-fd1e-425d-9cf9-5e26eba31c3a",
   "metadata": {},
   "outputs": [
    {
     "name": "stdout",
     "output_type": "stream",
     "text": [
      "1.176009275351064\n",
      "[[1 0 0 ... 0 0 0]\n",
      " [0 0 0 ... 0 0 0]\n",
      " [0 0 0 ... 0 0 0]\n",
      " ...\n",
      " [1 0 0 ... 0 0 0]\n",
      " [0 0 0 ... 0 0 0]\n",
      " [0 0 0 ... 0 0 0]] \n",
      "\n",
      " [[0 0 0 ... 0 0 0]\n",
      " [0 0 0 ... 0 0 0]\n",
      " [0 0 0 ... 0 0 0]\n",
      " ...\n",
      " [1 0 0 ... 0 0 0]\n",
      " [0 0 0 ... 0 0 0]\n",
      " [0 0 0 ... 0 0 0]]\n",
      "0.6290597533706745 0.733132079366308\n"
     ]
    }
   ],
   "source": [
    "#from sklearn.model_selection import train_test_split\n",
    "\n",
    "data = pd.read_csv('C:/Users/VK/Downloads/ml-100k/ml-100k/u.data', header=None,sep='\\t')\n",
    "data = data.reindex(sorted(data.columns), axis=1)\n",
    "data.columns=[\"user\",\"items\",\"rating\",\"time_stamp\"]\n",
    "rating_mat = pd.pivot_table(data,index='user',columns='items',values='rating')\n",
    "rating_mat.fillna(0,inplace=True)\n",
    "# split\n",
    "y_train, y_test = train_test_split(rating_mat.values)\n",
    "U_train,V_train=training(y_train,8.5,0.0001)\n",
    "pred = prediction(U_train, V_train)\n",
    "print(mean_abs_error(y_test,pred))\n",
    "classification(y_train,pred)"
   ]
  },
  {
   "cell_type": "code",
   "execution_count": 39,
   "id": "c2de50bd-89b5-4982-809a-84adbb18ced6",
   "metadata": {
    "editable": true,
    "slideshow": {
     "slide_type": ""
    },
    "tags": []
   },
   "outputs": [],
   "source": [
    "def classification(data,pred):\n",
    "    mask=(data>0).astype(float)\n",
    "    y_class=data.copy()*mask \n",
    "    pred=pred*mask\n",
    "    pred_class=(pred>3).astype(int) \n",
    "    y_class=(y_class>3).astype(int) \n",
    "    print(y_class,\"\\n\\n\", pred_class  )\n",
    "    precision=precision_score(y_class,pred_class,average='micro') \n",
    "    recall=recall_score(y_class,pred_class,average='micro')\n",
    "    print(precision,recall)"
   ]
  },
  {
   "cell_type": "code",
   "execution_count": 31,
   "id": "d028473b-4d68-4d85-9171-a64ffaff10ec",
   "metadata": {},
   "outputs": [
    {
     "ename": "NameError",
     "evalue": "name 'y_actual' is not defined",
     "output_type": "error",
     "traceback": [
      "\u001b[1;31m---------------------------------------------------------------------------\u001b[0m",
      "\u001b[1;31mNameError\u001b[0m                                 Traceback (most recent call last)",
      "Cell \u001b[1;32mIn[31], line 5\u001b[0m\n\u001b[0;32m      3\u001b[0m mask \u001b[38;5;241m=\u001b[39m (y_train \u001b[38;5;241m>\u001b[39m \u001b[38;5;241m0\u001b[39m)\u001b[38;5;241m.\u001b[39mastype(\u001b[38;5;28mfloat\u001b[39m)\n\u001b[0;32m      4\u001b[0m y_pred \u001b[38;5;241m=\u001b[39m ((pred \u001b[38;5;241m*\u001b[39m mask) \u001b[38;5;241m>\u001b[39m thresold)\u001b[38;5;241m.\u001b[39mastype(\u001b[38;5;28mint\u001b[39m)\n\u001b[1;32m----> 5\u001b[0m \u001b[38;5;28mprint\u001b[39m(y_actual)\n\u001b[0;32m      6\u001b[0m y_actual_sort \u001b[38;5;241m=\u001b[39m np\u001b[38;5;241m.\u001b[39mfliplr(np\u001b[38;5;241m.\u001b[39msort(y_actual))\n\u001b[0;32m      7\u001b[0m \u001b[38;5;28mprint\u001b[39m(y_actual_sort)\n",
      "\u001b[1;31mNameError\u001b[0m: name 'y_actual' is not defined"
     ]
    }
   ],
   "source": [
    "thresold = 3\n",
    "K = 10\n",
    "mask = (y_train > 0).astype(float)\n",
    "y_pred = ((pred * mask) > thresold).astype(int)\n",
    "print(y_actual)\n",
    "y_actual_sort = np.fliplr(np.sort(y_actual))\n",
    "print(y_actual_sort)\n",
    "topK=y_actual_sort[:K]\n",
    "relevant_top_k=topK.sum()\n",
    "print(relevant_top_k)\n",
    "precision_at_k=relevant_top_k/K\n",
    "print(f\"Precision@{K}:{precision_at_k}\")\n",
    "# mask=(y10_shape>0).astype(float)\n",
    "# y10_shape=((y10_shape * mask) > thresold).astype(int)\n",
    "# y10_shape\n",
    "# pred10_shape=pred[:10]\n",
    "\n",
    "# # mask=(pred10_shape>0).astype(float)\n",
    "# pred10_shape=((pred10_shape * mask) > 3).astype(int)\n",
    "# preci_10=precision_score(y10_shape,pred10_shape,average='micro')\n",
    "# print(preci_10)"
   ]
  },
  {
   "cell_type": "code",
   "execution_count": null,
   "id": "912b44c7-6f8f-4735-a596-a1c4cfeeab4a",
   "metadata": {},
   "outputs": [],
   "source": []
  }
 ],
 "metadata": {
  "kernelspec": {
   "display_name": "Python 3 (ipykernel)",
   "language": "python",
   "name": "python3"
  },
  "language_info": {
   "codemirror_mode": {
    "name": "ipython",
    "version": 3
   },
   "file_extension": ".py",
   "mimetype": "text/x-python",
   "name": "python",
   "nbconvert_exporter": "python",
   "pygments_lexer": "ipython3",
   "version": "3.12.7"
  }
 },
 "nbformat": 4,
 "nbformat_minor": 5
}
