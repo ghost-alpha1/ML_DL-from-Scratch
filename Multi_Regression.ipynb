{
 "cells": [
  {
   "cell_type": "code",
   "execution_count": 1,
   "id": "70c000e5",
   "metadata": {},
   "outputs": [],
   "source": [
    "import numpy as np\n",
    "from sklearn.datasets import load_diabetes"
   ]
  },
  {
   "cell_type": "code",
   "execution_count": 2,
   "id": "6c45f009",
   "metadata": {},
   "outputs": [],
   "source": [
    "X, Y = load_diabetes(return_X_y = True)"
   ]
  },
  {
   "cell_type": "code",
   "execution_count": 7,
   "id": "d6d99969",
   "metadata": {},
   "outputs": [],
   "source": [
    "def DataShuffle(X_data, Y_data):\n",
    "    data_num = np.arange(X_data.shape[0])\n",
    "    np.random.shuffle(data_num)\n",
    "    return X_data[data_num], Y_data[data_num]"
   ]
  },
  {
   "cell_type": "code",
   "execution_count": 8,
   "id": "e89515b9",
   "metadata": {},
   "outputs": [],
   "source": [
    "def train_tst_split(X_data,Y_data,ratio=0.3, shuffle=True):\n",
    "    if shuffle:\n",
    "        X_data, Y_data = DataShuffle(X_data, Y_data)\n",
    "    if ratio < 1:\n",
    "        test_size = len(Y_data) - int(len(Y_data) * ratio)\n",
    "        X_train, X_test = X_data[:test_size], X_data[test_size:]\n",
    "        Y_train, Y_test = Y_data[:test_size], Y_data[test_size:]\n",
    "    return X_train, X_test, Y_train, Y_test"
   ]
  },
  {
   "cell_type": "code",
   "execution_count": 25,
   "id": "6bb79f56",
   "metadata": {},
   "outputs": [],
   "source": [
    "class Multi_regression:\n",
    "    def __init__(self):\n",
    "        self.m = None\n",
    "        self.b = None\n",
    "    def fit_line(self, x_train, y_train, alpha = 0.1):\n",
    "        x_train = np.insert(x_train, 0, 1, axis=1)\n",
    "        weight = np.linalg.inv(x_train.T @ x_train)@(x_train.T)@ y_train\n",
    "        self.b = weight[0]\n",
    "        self.m = weight[1:]\n",
    "        return self.m, self.b\n",
    "    def predict(self, x_test):\n",
    "        y_pred = np.dot(x_test, self.m) + self.b\n",
    "        return y_pred"
   ]
  },
  {
   "cell_type": "code",
   "execution_count": 27,
   "id": "d4d99a48",
   "metadata": {},
   "outputs": [
    {
     "name": "stdout",
     "output_type": "stream",
     "text": [
      "(array([ -29.00298318, -258.49779591,  511.28409372,  318.78187144,\n",
      "       -662.59562364,  211.91810928,  128.5955284 ,  285.28837811,\n",
      "        706.75688322,   99.5816405 ]), 150.72931449444195)\n"
     ]
    },
    {
     "data": {
      "text/plain": [
       "array([121.88810647, 113.49014496, 237.88694156, 121.87569418,\n",
       "       137.5981235 , 104.51991811, 131.63326285,  86.79160974,\n",
       "       188.64181713,  67.17322879, 117.03174971, 115.10560886,\n",
       "       189.47177282, 234.49841444, 105.79798697, 143.50981661,\n",
       "       109.86909957,  68.76270434,  63.4031408 , 168.47956267,\n",
       "       150.08641041, 136.80510806, 253.62376085, 119.91365123,\n",
       "       118.50286701, 222.6557531 ,  52.94966411, 185.37580202,\n",
       "       262.36774223, 202.15881218, 130.61573631, 172.43313235,\n",
       "        41.7127357 , 158.869438  , 206.06253686,  89.97206011,\n",
       "        89.02973147, 155.96105789,  93.31436627, 149.61885425,\n",
       "       150.7293127 ,  89.90469646, 144.25602226,  86.20051359,\n",
       "       208.72313775, 127.15374291,  59.70263426, 255.64743618,\n",
       "       150.93462882,  80.94021307,  93.71294381, 290.79441279,\n",
       "        87.53903741,  80.24213665,  59.10953507, 217.43524964,\n",
       "       231.58477207,  96.20228108, 174.82637921, 110.4607766 ,\n",
       "       147.20965082, 191.71961744,  72.43080104, 214.38108647,\n",
       "        82.04264967, 160.10241106, 226.22567057, 177.9278523 ,\n",
       "       123.75036648, 116.92950566,  84.00131719,  73.2232378 ,\n",
       "       254.02888191,  73.76441969, 299.34663815, 173.09306525,\n",
       "        42.21015038, 165.35551269, 153.12356062, 116.19988314,\n",
       "       142.86083146,  52.24527946, 192.90891504, 238.3190046 ,\n",
       "       226.17818638, 233.83959613,  66.06686255, 139.53276373,\n",
       "       270.70482005, 184.57451653,  96.46614259, 253.26869905,\n",
       "       159.85674656,  65.77424615, 182.99029276,  99.61687917,\n",
       "       148.90606927, 125.87998889, 131.03301815, 117.64327111,\n",
       "       175.74293064, 153.91841484, 174.31793985, 116.34185251,\n",
       "       182.41576101, 145.2790429 , 126.10104588, 141.64441836,\n",
       "       126.24264233, 143.34903835, 166.46169812, 273.1537771 ,\n",
       "       274.71701589, 167.44086127, 204.03854937, 195.27667702,\n",
       "       179.76945085, 147.94487448, 121.9877326 ,  87.48717084,\n",
       "       189.88624949, 166.05608495, 165.84835172, 129.79790498,\n",
       "        96.18900773, 248.72905015,  85.42779202, 134.84019348,\n",
       "       169.18474503, 204.56986653, 105.25956519, 102.64710631])"
      ]
     },
     "execution_count": 27,
     "metadata": {},
     "output_type": "execute_result"
    }
   ],
   "source": [
    "x_train, x_test, y_train, y_test = train_tst_split(X, Y)\n",
    "ml = Multi_regression()\n",
    "print(ml.fit_line(x_train, y_train))\n",
    "ml.predict(x_test)"
   ]
  },
  {
   "cell_type": "code",
   "execution_count": 19,
   "id": "fe3e12d9",
   "metadata": {},
   "outputs": [
    {
     "data": {
      "text/plain": [
       "array([ 1.        ,  1.        ,  1.        ,  0.04170844, -0.04464164,\n",
       "       -0.00728377,  0.02875809, -0.04284755, -0.04828615,  0.05232174,\n",
       "       -0.0763945 , -0.07213275,  0.02377494])"
      ]
     },
     "execution_count": 19,
     "metadata": {},
     "output_type": "execute_result"
    }
   ],
   "source": [
    "x_train = np.insert(x_train, 0, 1, axis=1)\n",
    "weight = np.ones(x_train.shape[0])\n",
    "x_train[0]"
   ]
  },
  {
   "cell_type": "code",
   "execution_count": 28,
   "id": "05b0adc4",
   "metadata": {},
   "outputs": [
    {
     "name": "stdout",
     "output_type": "stream",
     "text": [
      "Tue Jul 22 15:27:07 2025       \n",
      "+-----------------------------------------------------------------------------+\n",
      "| NVIDIA-SMI 527.41       Driver Version: 527.41       CUDA Version: 12.0     |\n",
      "|-------------------------------+----------------------+----------------------+\n",
      "| GPU  Name            TCC/WDDM | Bus-Id        Disp.A | Volatile Uncorr. ECC |\n",
      "| Fan  Temp  Perf  Pwr:Usage/Cap|         Memory-Usage | GPU-Util  Compute M. |\n",
      "|                               |                      |               MIG M. |\n",
      "|===============================+======================+======================|\n",
      "|   0  NVIDIA T1000       WDDM  | 00000000:01:00.0  On |                  N/A |\n",
      "| 35%   51C    P0    N/A /  50W |   1256MiB /  4096MiB |     18%      Default |\n",
      "|                               |                      |                  N/A |\n",
      "+-------------------------------+----------------------+----------------------+\n",
      "                                                                               \n",
      "+-----------------------------------------------------------------------------+\n",
      "| Processes:                                                                  |\n",
      "|  GPU   GI   CI        PID   Type   Process name                  GPU Memory |\n",
      "|        ID   ID                                                   Usage      |\n",
      "|=============================================================================|\n",
      "|    0   N/A  N/A      4780    C+G   ...dows\\System32\\WWAHost.exe    N/A      |\n",
      "|    0   N/A  N/A      5536    C+G   ...ser\\Application\\brave.exe    N/A      |\n",
      "|    0   N/A  N/A      5560    C+G   ...ser\\Application\\brave.exe    N/A      |\n",
      "|    0   N/A  N/A      6264    C+G   ...ewy\\CrossDeviceResume.exe    N/A      |\n",
      "|    0   N/A  N/A      6860    C+G   C:\\Windows\\explorer.exe         N/A      |\n",
      "|    0   N/A  N/A      8228    C+G   ...\\ApplicationFrameHost.exe    N/A      |\n",
      "|    0   N/A  N/A      8260    C+G   ...n1h2txyewy\\SearchHost.exe    N/A      |\n",
      "|    0   N/A  N/A      8284    C+G   ...artMenuExperienceHost.exe    N/A      |\n",
      "|    0   N/A  N/A     10092    C+G   ...351.83\\msedgewebview2.exe    N/A      |\n",
      "|    0   N/A  N/A     10284    C+G   ...351.83\\msedgewebview2.exe    N/A      |\n",
      "|    0   N/A  N/A     10292    C+G   ...cw5n1h2txyewy\\LockApp.exe    N/A      |\n",
      "|    0   N/A  N/A     11636    C+G   ...e\\PhoneExperienceHost.exe    N/A      |\n",
      "|    0   N/A  N/A     13268    C+G   ...ge\\Application\\msedge.exe    N/A      |\n",
      "|    0   N/A  N/A     15004    C+G   ...2txyewy\\TextInputHost.exe    N/A      |\n",
      "|    0   N/A  N/A     16092    C+G   ...y\\ShellExperienceHost.exe    N/A      |\n",
      "|    0   N/A  N/A     16972    C+G   ...ekyb3d8bbwe\\onenoteim.exe    N/A      |\n",
      "|    0   N/A  N/A     20928    C+G   ...ws\\System32\\ShellHost.exe    N/A      |\n",
      "|    0   N/A  N/A     38316    C+G   ...oft OneDrive\\OneDrive.exe    N/A      |\n",
      "|    0   N/A  N/A     45416    C+G   ...lPanel\\SystemSettings.exe    N/A      |\n",
      "|    0   N/A  N/A     70696    C+G   ...icrosoft VS Code\\Code.exe    N/A      |\n",
      "|    0   N/A  N/A     83016    C+G   ...8bbwe\\WindowsTerminal.exe    N/A      |\n",
      "+-----------------------------------------------------------------------------+\n"
     ]
    }
   ],
   "source": [
    "!nvidia-smi"
   ]
  },
  {
   "cell_type": "code",
   "execution_count": null,
   "id": "ddee647c",
   "metadata": {},
   "outputs": [],
   "source": []
  }
 ],
 "metadata": {
  "kernelspec": {
   "display_name": "base",
   "language": "python",
   "name": "python3"
  },
  "language_info": {
   "codemirror_mode": {
    "name": "ipython",
    "version": 3
   },
   "file_extension": ".py",
   "mimetype": "text/x-python",
   "name": "python",
   "nbconvert_exporter": "python",
   "pygments_lexer": "ipython3",
   "version": "3.12.7"
  }
 },
 "nbformat": 4,
 "nbformat_minor": 5
}
